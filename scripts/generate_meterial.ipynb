{
 "cells": [
  {
   "cell_type": "code",
   "execution_count": 1,
   "metadata": {
    "collapsed": true
   },
   "outputs": [],
   "source": [
    "import os\n",
    "from os import walk\n",
    "from os import listdir\n",
    "from os.path import isfile, join\n",
    "import cv2\n",
    "from matplotlib.pyplot import imshow"
   ]
  },
  {
   "cell_type": "code",
   "execution_count": 2,
   "outputs": [],
   "source": [
    "folder1 = r\"../src/main/resources\"\n",
    "base = \"oak\"\n",
    "mat = \"aspen\"\n",
    "mod = \"byg\"\n",
    "mod_short = \"byg_\"\n",
    "rmp = {\n",
    "    f\"simpleplanes:{base}_plane\": f\"simpleplanes:{mod_short}{mat}_plane\",\n",
    "    f\"simpleplanes:{base}_large_plane\": f\"simpleplanes:{mod_short}{mat}_large_plane\",\n",
    "    f\"minecraft:{base}_boat\": f\"{mod}:{mat}_boat\",\n",
    "    f\"item/{base}\": f\"item/{mod_short}{mat}\",\n",
    "    f\"minecraft:{base}\": f\"{mod}:{mat}\",\n",
    "    f\"{base}\": mat\n",
    "}"
   ],
   "metadata": {
    "collapsed": false,
    "pycharm": {
     "name": "#%%\n"
    }
   }
  },
  {
   "cell_type": "code",
   "execution_count": 3,
   "outputs": [
    {
     "name": "stdout",
     "output_type": "stream",
     "text": [
      "['assets', 'data', 'META-INF', 'pack.mcmeta']\n",
      "[('../src/main/resources\\\\assets\\\\simpleplanes\\\\models\\\\item', 'oak_helicopter.json'), ('../src/main/resources\\\\assets\\\\simpleplanes\\\\models\\\\item', 'oak_large_plane.json'), ('../src/main/resources\\\\assets\\\\simpleplanes\\\\models\\\\item', 'oak_plane.json'), ('../src/main/resources\\\\assets\\\\simpleplanes\\\\textures\\\\entity\\\\plane\\\\furnace', 'oak.png'), ('../src/main/resources\\\\assets\\\\simpleplanes\\\\textures\\\\entity\\\\plane\\\\furnace_powered', 'oak.png'), ('../src/main/resources\\\\assets\\\\simpleplanes\\\\textures\\\\entity\\\\plane\\\\large_furnace', 'oak.png'), ('../src/main/resources\\\\assets\\\\simpleplanes\\\\textures\\\\entity\\\\plane\\\\large_furnace_powered', 'oak.png'), ('../src/main/resources\\\\assets\\\\simpleplanes\\\\textures\\\\item', 'oak_helicopter.png'), ('../src/main/resources\\\\assets\\\\simpleplanes\\\\textures\\\\item', 'oak_large_plane.png'), ('../src/main/resources\\\\assets\\\\simpleplanes\\\\textures\\\\item', 'oak_plane.png'), ('../src/main/resources\\\\data\\\\simpleplanes\\\\recipes', 'oak_helicopter.json'), ('../src/main/resources\\\\data\\\\simpleplanes\\\\recipes', 'oak_large_plane.json'), ('../src/main/resources\\\\data\\\\simpleplanes\\\\recipes', 'oak_plane.json')]\n"
     ]
    }
   ],
   "source": [
    "print(listdir(folder1))\n",
    "\n",
    "f = []\n",
    "for (dirpath, dirnames, filenames) in walk(folder1):\n",
    "    f.extend(map(lambda f1: (dirpath, f1), filter(lambda f1: f\"{base}\" == f1[:3], filenames)))\n",
    "\n",
    "print(f)"
   ],
   "metadata": {
    "collapsed": false,
    "pycharm": {
     "name": "#%%\n"
    }
   }
  },
  {
   "cell_type": "code",
   "execution_count": 4,
   "outputs": [
    {
     "name": "stdout",
     "output_type": "stream",
     "text": [
      "../src/main/resources\\assets\\simpleplanes\\textures\\entity\\plane\\furnace\\oak.png\n",
      "../src/main/resources\\assets\\simpleplanes\\textures\\entity\\plane\\furnace_powered\\oak.png\n",
      "../src/main/resources\\assets\\simpleplanes\\textures\\entity\\plane\\large_furnace\\oak.png\n",
      "../src/main/resources\\assets\\simpleplanes\\textures\\entity\\plane\\large_furnace_powered\\oak.png\n",
      "../src/main/resources\\assets\\simpleplanes\\textures\\item\\oak_helicopter.png\n",
      "../src/main/resources\\assets\\simpleplanes\\textures\\item\\oak_large_plane.png\n",
      "../src/main/resources\\assets\\simpleplanes\\textures\\item\\oak_plane.png\n"
     ]
    },
    {
     "data": {
      "text/plain": "<Figure size 432x288 with 1 Axes>",
      "image/png": "[encoded data removed]"
     },
     "metadata": {
      "needs_background": "light"
     },
     "output_type": "display_data"
    }
   ],
   "source": [
    "for dirpath, f1 in f:\n",
    "    filename, file_extension = os.path.splitext(f1)\n",
    "    path_join = os.path.join(dirpath, f1)\n",
    "    if file_extension == \".png\":\n",
    "        print(path_join)\n",
    "        im = cv2.imread(path_join,cv2.IMREAD_UNCHANGED)\n",
    "        RGB_img = cv2.cvtColor(im, cv2.COLOR_BGRA2RGBA)\n",
    "\n",
    "        imshow(RGB_img)\n",
    "\n",
    "        # hsv = cv2.cvtColor(im, cv2.COLOR_BGR2HSV)\n",
    "        # hchannel = hsv[:, :, 0]\n",
    "        # hchannel = 100 + hchannel\n",
    "        # hsv[:, :, 0] = hchannel\n",
    "        # rgb = cv2.cvtColor(hsv, cv2.COLOR_HSV2BGR)\n",
    "        # imshow(rgb)\n",
    "\n"
   ],
   "metadata": {
    "collapsed": false,
    "pycharm": {
     "name": "#%%\n"
    }
   }
  },
  {
   "cell_type": "code",
   "execution_count": 63,
   "outputs": [],
   "source": [
    "import numpy as np\n",
    "import cv2\n",
    "\n",
    "def color_transfer(source, target, mask, target_mask):\n",
    "    \"\"\"\n",
    "    Transfers the color distribution from the source to the target\n",
    "    image using the mean and standard deviations of the L*a*b*\n",
    "    color space.\n",
    "\n",
    "    This implementation is (loosely) based on to the \"Color Transfer\n",
    "    between Images\" paper by Reinhard et al., 2001.\n",
    "\n",
    "    Parameters:\n",
    "    -------\n",
    "    source: NumPy array\n",
    "        OpenCV image in BGR color space (the source image)\n",
    "    target: NumPy array\n",
    "        OpenCV image in BGR color space (the target image)\n",
    "\n",
    "    Returns:\n",
    "    -------\n",
    "    transfer: NumPy array\n",
    "        OpenCV image (w, h, 3) NumPy array (uint8)\n",
    "    \"\"\"\n",
    "    # convert the images from the RGB to L*ab* color space, being\n",
    "    # sure to utilizing the floating point data type (note: OpenCV\n",
    "    # expects floats to be 32-bit, so use that instead of 64-bit)\n",
    "    target1 = target.copy()\n",
    "    source = cv2.cvtColor(source, cv2.COLOR_BGR2LAB).astype(\"float32\")\n",
    "    target = cv2.cvtColor(target, cv2.COLOR_BGR2LAB).astype(\"float32\")\n",
    "\n",
    "    # compute color statistics for the source and target images\n",
    "    (lMeanSrc, lStdSrc, aMeanSrc, aStdSrc, bMeanSrc, bStdSrc) = image_stats(source,mask)\n",
    "    (lMeanTar, lStdTar, aMeanTar, aStdTar, bMeanTar, bStdTar) = image_stats(target,target_mask)\n",
    "    print(lMeanSrc, lStdSrc, aMeanSrc, aStdSrc, bMeanSrc, bStdSrc)\n",
    "    print(lMeanTar, lStdTar, aMeanTar, aStdTar, bMeanTar, bStdTar)\n",
    "\n",
    "    # subtract the means from the target image\n",
    "    (l, a, b) = cv2.split(target)\n",
    "    l -= lMeanTar\n",
    "    a -= aMeanTar\n",
    "    b -= bMeanTar\n",
    "\n",
    "    # scale by the standard deviations\n",
    "    l = (lStdTar / lStdSrc) * l\n",
    "    a = (aStdTar / aStdSrc) * a\n",
    "    b = (bStdTar / bStdSrc) * b\n",
    "\n",
    "    # add in the source mean\n",
    "    l += lMeanSrc\n",
    "    a += aMeanSrc\n",
    "    b += bMeanSrc\n",
    "\n",
    "    # clip the pixel intensities to [0, 255] if they fall outside\n",
    "    # this range\n",
    "    l = np.clip(l, 0, 255)\n",
    "    a = np.clip(a, 0, 255)\n",
    "    b = np.clip(b, 0, 255)\n",
    "\n",
    "    # merge the channels together and convert back to the RGB color\n",
    "    # space, being sure to utilize the 8-bit unsigned integer data\n",
    "    # type\n",
    "    transfer = cv2.merge([l, a, b])\n",
    "    transfer = cv2.cvtColor(transfer.astype(\"uint8\"), cv2.COLOR_LAB2BGR)\n",
    "    target1[target_mask] = transfer[target_mask]\n",
    "    #return the color transferred image\n",
    "\n",
    "    return target1\n",
    "\n",
    "def image_stats(image,mask):\n",
    "    \"\"\"\n",
    "    Parameters:\n",
    "    -------\n",
    "    image: NumPy array\n",
    "        OpenCV image in L*a*b* color space\n",
    "\n",
    "    Returns:\n",
    "    -------\n",
    "    Tuple of mean and standard deviations for the L*, a*, and b*\n",
    "    channels, respectively\n",
    "    \"\"\"\n",
    "    # compute the mean and standard deviation of each channel\n",
    "    (l, a, b) = cv2.split(image)\n",
    "    plt.show()\n",
    "    (lMean, lStd) = (l[mask].mean(), l[mask].std())\n",
    "    (aMean, aStd) = (a[mask].mean(), a[mask].std())\n",
    "    (bMean, bStd) = (b[mask].mean(), b[mask].std())\n",
    "\n",
    "    # return the color statistics\n",
    "    return (lMean, lStd, aMean, aStd, bMean, bStd)"
   ],
   "metadata": {
    "collapsed": false,
    "pycharm": {
     "name": "#%%\n"
    }
   }
  },
  {
   "cell_type": "code",
   "execution_count": 75,
   "outputs": [
    {
     "data": {
      "text/plain": "<Figure size 432x288 with 1 Axes>",
      "image/png": "[encoded data removed]"
     },
     "metadata": {
      "needs_background": "light"
     },
     "output_type": "display_data"
    },
    {
     "data": {
      "text/plain": "<Figure size 432x288 with 1 Axes>",
      "image/png": "[encoded data removed]"
     },
     "metadata": {
      "needs_background": "light"
     },
     "output_type": "display_data"
    },
    {
     "data": {
      "text/plain": "<Figure size 432x288 with 1 Axes>",
      "image/png": "[encoded data removed]"
     },
     "metadata": {
      "needs_background": "light"
     },
     "output_type": "display_data"
    },
    {
     "name": "stdout",
     "output_type": "stream",
     "text": [
      "141.92523 45.017277 144.23364 2.0715225 144.2243 5.01271\n",
      "140.90141 70.289375 129.24648 0.43096057 132.69014 0.8407165\n"
     ]
    },
    {
     "data": {
      "text/plain": "<Figure size 432x288 with 1 Axes>",
      "image/png": "[encoded data removed]"
     },
     "metadata": {
      "needs_background": "light"
     },
     "output_type": "display_data"
    },
    {
     "data": {
      "text/plain": "<Figure size 432x288 with 1 Axes>",
      "image/png": "[encoded data removed]"
     },
     "metadata": {
      "needs_background": "light"
     },
     "output_type": "display_data"
    }
   ],
   "source": [
    "import matplotlib.pyplot as plt\n",
    "\n",
    "# im1 = cv2.imread(\"boats\\\\holly_boat.png\")\n",
    "im1 = cv2.imread(\"boats\\\\holly_boat.png\")\n",
    "plt.imshow(cv2.cvtColor(im1, cv2.COLOR_BGRA2RGB))\n",
    "plt.title(\"holly\")\n",
    "plt.show()\n",
    "\n",
    "im1 = cv2.cvtColor(im1, cv2.COLOR_BGRA2BGR)\n",
    "im2 = cv2.imread(\"boats\\\\aspen_boat.png\")\n",
    "\n",
    "eq1 = ~np.all(im1 == im2,axis=2)\n",
    "\n",
    "src = cv2.imread(\"item\\\\bop_dead_plane.png\", cv2.IMREAD_UNCHANGED)\n",
    "im_p1 = cv2.cvtColor(src, cv2.COLOR_BGRA2BGR)\n",
    "im_p2 = cv2.cvtColor(cv2.imread(\"item\\\\bop_cherry_plane.png\"), cv2.COLOR_BGRA2BGR)\n",
    "eq2 = ~np.all(im_p1 == im_p2,axis=2)\n",
    "\n",
    "# im1[eq] = 0\n",
    "# im2[eq] = 0\n",
    "plt.imshow(eq2.astype(int))\n",
    "plt.title(\"eq2\")\n",
    "plt.show()\n",
    "\n",
    "plt.imshow(cv2.cvtColor(im2, cv2.COLOR_BGRA2RGB))\n",
    "plt.title(\"aspen\")\n",
    "plt.show()\n",
    "im3 = color_transfer(im2,im_p1,eq1,eq2)\n",
    "plt.imshow(cv2.cvtColor(im3, cv2.COLOR_BGRA2RGB))\n",
    "plt.title(\"transfer\")\n",
    "plt.show()\n",
    "plt.imshow(cv2.cvtColor(im_p1, cv2.COLOR_BGRA2RGB))\n",
    "plt.title(\"oak plane\")\n",
    "plt.show()\n"
   ],
   "metadata": {
    "collapsed": false,
    "pycharm": {
     "name": "#%%\n"
    }
   }
  },
  {
   "cell_type": "code",
   "execution_count": 82,
   "outputs": [
    {
     "data": {
      "text/plain": "<Figure size 432x288 with 1 Axes>",
      "image/png": "[encoded data removed]"
     },
     "metadata": {
      "needs_background": "light"
     },
     "output_type": "display_data"
    },
    {
     "data": {
      "text/plain": "True"
     },
     "execution_count": 82,
     "metadata": {},
     "output_type": "execute_result"
    }
   ],
   "source": [
    "src[...,:-1] = im3\n",
    "plt.imshow(cv2.cvtColor(src, cv2.COLOR_BGRA2RGB))\n",
    "plt.title(\"src\")\n",
    "plt.show()\n",
    "cv2.imwrite(\"out/one.png\",src)\n"
   ],
   "metadata": {
    "collapsed": false,
    "pycharm": {
     "name": "#%%\n"
    }
   }
  }
 ],
 "metadata": {
  "kernelspec": {
   "display_name": "Python 3",
   "language": "python",
   "name": "python3"
  },
  "language_info": {
   "codemirror_mode": {
    "name": "ipython",
    "version": 2
   },
   "file_extension": ".py",
   "mimetype": "text/x-python",
   "name": "python",
   "nbconvert_exporter": "python",
   "pygments_lexer": "ipython2",
   "version": "2.7.6"
  }
 },
 "nbformat": 4,
 "nbformat_minor": 0
}